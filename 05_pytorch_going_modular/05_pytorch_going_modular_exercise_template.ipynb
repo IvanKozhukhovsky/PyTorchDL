{
  "nbformat": 4,
  "nbformat_minor": 0,
  "metadata": {
    "colab": {
      "provenance": []
    },
    "kernelspec": {
      "name": "python3",
      "display_name": "Python 3"
    },
    "language_info": {
      "name": "python"
    },
    "accelerator": "GPU"
  },
  "cells": [
    {
      "cell_type": "markdown",
      "metadata": {
        "id": "view-in-github"
      },
      "source": [
        "<a href=\"https://colab.research.google.com/github/mrdbourke/pytorch-deep-learning/blob/main/extras/exercises/05_pytorch_going_modular_exercise_template.ipynb\" target=\"_parent\"><img src=\"https://colab.research.google.com/assets/colab-badge.svg\" alt=\"Open In Colab\"/></a>"
      ]
    },
    {
      "cell_type": "markdown",
      "source": [
        "# 05. PyTorch Going Modular Exercises\n",
        "\n",
        "Welcome to the 05. PyTorch Going Modular exercise template notebook.\n",
        "\n",
        "There are several questions in this notebook and it's your goal to answer them by writing Python and PyTorch code.\n",
        "\n",
        "> **Note:** There may be more than one solution to each of the exercises, don't worry too much about the *exact* right answer. Try to write some code that works first and then improve it if you can.\n",
        "\n",
        "## Resources and solutions\n",
        "\n",
        "* These exercises/solutions are based on [section 05. PyTorch Going Modular](https://www.learnpytorch.io/05_pytorch_going_modular/) of the Learn PyTorch for Deep Learning course by Zero to Mastery.\n",
        "\n",
        "**Solutions:**\n",
        "\n",
        "Try to complete the code below *before* looking at these.\n",
        "\n",
        "* See a live [walkthrough of the solutions (errors and all) on YouTube](https://youtu.be/ijgFhMK3pp4).\n",
        "* See an example [solutions notebook for these exercises on GitHub](https://github.com/mrdbourke/pytorch-deep-learning/blob/main/extras/solutions/05_pytorch_going_modular_exercise_solutions.ipynb)."
      ],
      "metadata": {
        "id": "zNqPNlYylluR"
      }
    },
    {
      "cell_type": "markdown",
      "source": [
        "## 1. Turn the code to get the data (from section 1. Get Data) into a Python script, such as `get_data.py`.\n",
        "\n",
        "* When you run the script using `python get_data.py` it should check if the data already exists and skip downloading if it does.\n",
        "* If the data download is successful, you should be able to access the `pizza_steak_sushi` images from the `data` directory."
      ],
      "metadata": {
        "id": "bicbWSrPmfTU"
      }
    },
    {
      "cell_type": "code",
      "source": [
        "%%writefile get_data.py\n",
        "\n",
        "import os\n",
        "import requests\n",
        "import zipfile\n",
        "\n",
        "# URL для загрузки данных\n",
        "data_url = \"https://github.com/mrdbourke/pytorch-deep-learning/raw/main/data/pizza_steak_sushi.zip\"\n",
        "data_path = \"data/pizza_steak_sushi\"\n",
        "\n",
        "# Функция для загрузки и распаковки данных\n",
        "def download_and_extract_data(url, path):\n",
        "    if not os.path.exists(path):\n",
        "        os.makedirs(path, exist_ok=True)\n",
        "        zip_path = os.path.join(path, \"pizza_steak_sushi.zip\")\n",
        "\n",
        "        with open(zip_path, \"wb\") as file:\n",
        "            response = requests.get(url)\n",
        "            file.write(response.content)\n",
        "\n",
        "        with zipfile.ZipFile(zip_path, \"r\") as zip_ref:\n",
        "            zip_ref.extractall(path)\n",
        "\n",
        "        os.remove(zip_path)\n",
        "        print(f\"[INFO] Data downloaded and extracted to {path}\")\n",
        "    else:\n",
        "        print(f\"[INFO] Data already exists at {path}\")\n",
        "\n",
        "# Запуск функции\n",
        "if __name__ == \"__main__\":\n",
        "    download_and_extract_data(data_url, data_path)"
      ],
      "metadata": {
        "id": "r0BCn1XIYZ8c",
        "colab": {
          "base_uri": "https://localhost:8080/"
        },
        "outputId": "b30fc5c4-db5b-4985-992d-5b75cf1c930c"
      },
      "execution_count": 1,
      "outputs": [
        {
          "output_type": "stream",
          "name": "stdout",
          "text": [
            "Writing get_data.py\n"
          ]
        }
      ]
    },
    {
      "cell_type": "code",
      "source": [
        "# Example running of get_data.py\n",
        "!python get_data.py"
      ],
      "metadata": {
        "id": "_LrUOIC-YOP9",
        "colab": {
          "base_uri": "https://localhost:8080/"
        },
        "outputId": "7bb33bc4-a73c-4053-f23e-8b747ff22c1b"
      },
      "execution_count": 2,
      "outputs": [
        {
          "output_type": "stream",
          "name": "stdout",
          "text": [
            "[INFO] Data downloaded and extracted to data/pizza_steak_sushi\n"
          ]
        }
      ]
    },
    {
      "cell_type": "markdown",
      "source": [
        "## 2. Use [Python's `argparse` module](https://docs.python.org/3/library/argparse.html) to be able to send the `train.py` custom hyperparameter values for training procedures.\n",
        "* Add an argument flag for using a different:\n",
        "  * Training/testing directory\n",
        "  * Learning rate\n",
        "  * Batch size\n",
        "  * Number of epochs to train for\n",
        "  * Number of hidden units in the TinyVGG model\n",
        "    * Keep the default values for each of the above arguments as what they already are (as in notebook 05).\n",
        "* For example, you should be able to run something similar to the following line to train a TinyVGG model with a learning rate of 0.003 and a batch size of 64 for 20 epochs: `python train.py --learning_rate 0.003 batch_size 64 num_epochs 20`.\n",
        "* **Note:** Since `train.py` leverages the other scripts we created in section 05, such as, `model_builder.py`, `utils.py` and `engine.py`, you'll have to make sure they're available to use too. You can find these in the [`going_modular` folder on the course GitHub](https://github.com/mrdbourke/pytorch-deep-learning/tree/main/going_modular/going_modular)."
      ],
      "metadata": {
        "id": "zjyn7LU3mvkR"
      }
    },
    {
      "cell_type": "code",
      "source": [
        "%%writefile train.py\n",
        "\"\"\"\n",
        "Trains a PyTorch image classification model using device-agnostic code.\n",
        "\"\"\"\n",
        "\n",
        "import os\n",
        "import argparse\n",
        "import torch\n",
        "from torchvision import transforms\n",
        "\n",
        "import data_setup\n",
        "import engine\n",
        "import model_builder\n",
        "import utils\n",
        "\n",
        "def parse_args():\n",
        "    parser = argparse.ArgumentParser(description=\"Train a PyTorch model with custom hyperparameters.\")\n",
        "\n",
        "    parser.add_argument(\"--num_epochs\", type=int, default=10, help=\"Number of epochs to train the model\")\n",
        "    parser.add_argument(\"--batch_size\", type=int, default=32, help=\"Batch size for the DataLoader\")\n",
        "    parser.add_argument(\"--hidden_units\", type=int, default=10, help=\"Number of hidden units in the model\")\n",
        "    parser.add_argument(\"--learning_rate\", type=float, default=0.001, help=\"Learning rate for the optimizer\")\n",
        "    parser.add_argument(\"--train_dir\", type=str, default=\"data/pizza_steak_sushi/train\", help=\"Directory for training data\")\n",
        "    parser.add_argument(\"--test_dir\", type=str, default=\"data/pizza_steak_sushi/test\", help=\"Directory for testing data\")\n",
        "\n",
        "    return parser.parse_args()\n",
        "\n",
        "def main():\n",
        "    args = parse_args()\n",
        "\n",
        "    NUM_EPOCHS = args.num_epochs\n",
        "    BATCH_SIZE = args.batch_size\n",
        "    HIDDEN_UNITS = args.hidden_units\n",
        "    LEARNING_RATE = args.learning_rate\n",
        "    TRAIN_DIR = args.train_dir\n",
        "    TEST_DIR = args.test_dir\n",
        "\n",
        "    print(f\"[INFO] Training with: epochs={NUM_EPOCHS}, batch_size={BATCH_SIZE}, hidden_units={HIDDEN_UNITS}, learning_rate={LEARNING_RATE}\")\n",
        "    print(f\"[INFO] Training data path: {TRAIN_DIR}\")\n",
        "    print(f\"[INFO] Testing data path: {TEST_DIR}\")\n",
        "\n",
        "    device = torch.device(\"cuda\" if torch.cuda.is_available() else \"cpu\")\n",
        "    print(f\"[INFO] Using device: {device}\")\n",
        "\n",
        "    data_transform = transforms.Compose([\n",
        "        transforms.Resize((64, 64)),\n",
        "        transforms.ToTensor()\n",
        "    ])\n",
        "\n",
        "    train_dataloader, test_dataloader, class_names = data_setup.create_dataloaders(\n",
        "        train_dir=TRAIN_DIR,\n",
        "        test_dir=TEST_DIR,\n",
        "        transform=data_transform,\n",
        "        batch_size=BATCH_SIZE\n",
        "    )\n",
        "\n",
        "    model = model_builder.TinyVGG(\n",
        "        input_shape=3,\n",
        "        hidden_units=HIDDEN_UNITS,\n",
        "        output_shape=len(class_names)\n",
        "    ).to(device)\n",
        "\n",
        "    loss_fn = torch.nn.CrossEntropyLoss()\n",
        "    optimizer = torch.optim.Adam(model.parameters(), lr=LEARNING_RATE)\n",
        "\n",
        "    engine.train(\n",
        "        model=model,\n",
        "        train_dataloader=train_dataloader,\n",
        "        test_dataloader=test_dataloader,\n",
        "        loss_fn=loss_fn,\n",
        "        optimizer=optimizer,\n",
        "        epochs=NUM_EPOCHS,\n",
        "        device=device\n",
        "    )\n",
        "\n",
        "    utils.save_model(\n",
        "        model=model,\n",
        "        target_dir=\"models\",\n",
        "        model_name=\"tinyvgg_model.pth\"\n",
        "    )\n",
        "    print(f\"[INFO] Model saved to models/tinyvgg_model.pth\")\n",
        "\n",
        "if __name__ == \"__main__\":\n",
        "    main()\n"
      ],
      "metadata": {
        "id": "MKNDUp45YaW-",
        "colab": {
          "base_uri": "https://localhost:8080/"
        },
        "outputId": "bcb9c9fe-308d-4c65-b558-73e33f2d46c3"
      },
      "execution_count": 3,
      "outputs": [
        {
          "output_type": "stream",
          "name": "stdout",
          "text": [
            "Writing train.py\n"
          ]
        }
      ]
    },
    {
      "cell_type": "code",
      "source": [
        "# Example running of train.py\n",
        "!python train.py --num_epochs 5 --batch_size 128 --hidden_units 128 --learning_rate 0.0003"
      ],
      "metadata": {
        "id": "LzaJl39lC40N",
        "colab": {
          "base_uri": "https://localhost:8080/"
        },
        "outputId": "8f569d86-d568-446e-846d-830c6fdd3832"
      },
      "execution_count": 4,
      "outputs": [
        {
          "output_type": "stream",
          "name": "stdout",
          "text": [
            "[INFO] Training with: epochs=5, batch_size=128, hidden_units=128, learning_rate=0.0003\n",
            "[INFO] Training data path: data/pizza_steak_sushi/train\n",
            "[INFO] Testing data path: data/pizza_steak_sushi/test\n",
            "[INFO] Using device: cpu\n",
            "  0% 0/5 [00:00<?, ?it/s]Epoch: 1 | train_loss: 1.1041 | train_acc: 0.3396 | test_loss: 1.0955 | test_acc: 0.3333\n",
            " 20% 1/5 [00:31<02:07, 31.80s/it]Epoch: 2 | train_loss: 1.0914 | train_acc: 0.3651 | test_loss: 1.0782 | test_acc: 0.4800\n",
            " 40% 2/5 [01:03<01:34, 31.56s/it]Epoch: 3 | train_loss: 1.0732 | train_acc: 0.4443 | test_loss: 1.0510 | test_acc: 0.4933\n",
            " 60% 3/5 [01:33<01:02, 31.04s/it]Epoch: 4 | train_loss: 1.0288 | train_acc: 0.5786 | test_loss: 1.0278 | test_acc: 0.4400\n",
            " 80% 4/5 [02:05<00:31, 31.29s/it]Epoch: 5 | train_loss: 0.9658 | train_acc: 0.5260 | test_loss: 1.0206 | test_acc: 0.4400\n",
            "100% 5/5 [02:36<00:00, 31.31s/it]\n",
            "[INFO] Saving model to: models/tinyvgg_model.pth\n",
            "[INFO] Model saved to models/tinyvgg_model.pth\n"
          ]
        }
      ]
    },
    {
      "cell_type": "markdown",
      "source": [
        "## 3. Create a Python script to predict (such as `predict.py`) on a target image given a file path with a saved model.\n",
        "\n",
        "* For example, you should be able to run the command `python predict.py some_image.jpeg` and have a trained PyTorch model predict on the image and return its prediction.\n",
        "* To see example prediction code, check out the [predicting on a custom image section in notebook 04](https://www.learnpytorch.io/04_pytorch_custom_datasets/#113-putting-custom-image-prediction-together-building-a-function).\n",
        "* You may also have to write code to load in a trained model."
      ],
      "metadata": {
        "id": "P2g6EEYvm-46"
      }
    },
    {
      "cell_type": "code",
      "source": [
        "%%writefile predict.py\n",
        "\"\"\"\n",
        "Predicts the class of an input image using a pretrained PyTorch model.\n",
        "\"\"\"\n",
        "\n",
        "import argparse\n",
        "import torch\n",
        "import torchvision.transforms as transforms\n",
        "from PIL import Image\n",
        "import model_builder\n",
        "\n",
        "def parse_args():\n",
        "    parser = argparse.ArgumentParser(description=\"Predict the class of an input image using a pretrained model.\")\n",
        "\n",
        "    parser.add_argument(\"--image\", type=str, required=True, help=\"Path to the image file for prediction.\")\n",
        "    parser.add_argument(\"--model_path\", type=str, default=\"/content/models/tinyvgg_model.pth\", help=\"Path to the saved model file.\")\n",
        "\n",
        "    return parser.parse_args()\n",
        "\n",
        "def load_model(model_path, device):\n",
        "    model = model_builder.TinyVGG(input_shape=3, hidden_units=128, output_shape=3).to(device)\n",
        "    model.load_state_dict(torch.load(model_path))\n",
        "    return model\n",
        "\n",
        "def predict_image(image_path, model, class_names, device):\n",
        "    image = Image.open(image_path).convert(\"RGB\")\n",
        "    transform = transforms.Compose([\n",
        "        transforms.Resize((64, 64)),\n",
        "        transforms.ToTensor()\n",
        "    ])\n",
        "    image = transform(image).unsqueeze(0).to(device)\n",
        "\n",
        "    model.eval()\n",
        "    with torch.inference_mode():\n",
        "        output = model(image)\n",
        "        probabilities = torch.softmax(output, dim=1)\n",
        "        predicted_label = torch.argmax(probabilities, dim=1).item()\n",
        "\n",
        "    return class_names[predicted_label], probabilities[0][predicted_label].item()\n",
        "\n",
        "def main():\n",
        "    args = parse_args()\n",
        "\n",
        "    device = torch.device(\"cuda\" if torch.cuda.is_available() else \"cpu\")\n",
        "    class_names = [\"pizza\", \"steak\", \"sushi\"]\n",
        "\n",
        "    model = load_model(args.model_path, device)\n",
        "\n",
        "    pred_class, pred_prob = predict_image(args.image, model, class_names, device)\n",
        "\n",
        "    print(f\"[INFO] Predicted class: {pred_class}, Probability: {pred_prob:.3f}\")\n",
        "\n",
        "if __name__ == \"__main__\":\n",
        "    main()"
      ],
      "metadata": {
        "id": "HU7W6VZfYawP",
        "colab": {
          "base_uri": "https://localhost:8080/"
        },
        "outputId": "b06dd450-6dc0-4c3a-bbb7-84fdba1725bb"
      },
      "execution_count": 11,
      "outputs": [
        {
          "output_type": "stream",
          "name": "stdout",
          "text": [
            "Overwriting predict.py\n"
          ]
        }
      ]
    },
    {
      "cell_type": "code",
      "source": [
        "# Example running of predict.py\n",
        "!python predict.py --image data/pizza_steak_sushi/test/sushi/175783.jpg"
      ],
      "metadata": {
        "id": "Zcvw9sitIn6r",
        "colab": {
          "base_uri": "https://localhost:8080/"
        },
        "outputId": "760de5c9-aa34-405d-9570-01161d34b068"
      },
      "execution_count": 13,
      "outputs": [
        {
          "output_type": "stream",
          "name": "stdout",
          "text": [
            "[INFO] Predicted class: pizza, Probability: 0.358\n"
          ]
        }
      ]
    },
    {
      "cell_type": "code",
      "source": [],
      "metadata": {
        "id": "Ve1OW9SgZSf7"
      },
      "execution_count": null,
      "outputs": []
    }
  ]
}